{
 "cells": [
  {
   "cell_type": "code",
   "execution_count": null,
   "metadata": {},
   "outputs": [
    {
     "name": "stdout",
     "output_type": "stream",
     "text": [
      "   Unnamed: 0     TV  radio  newspaper  sales  x0\n",
      "0           1  230.1   37.8       69.2   22.1   1\n",
      "1           2   44.5   39.3       45.1   10.4   1\n",
      "2           3   17.2   45.9       69.3    9.3   1\n",
      "3           4  151.5   41.3       58.5   18.5   1\n",
      "4           5  180.8   10.8       58.4   12.9   1\n",
      "   x0        TV     radio  newspaper\n",
      "0   1  0.967425  0.979066   1.774493\n",
      "1   1 -1.194379  1.080097   0.667903\n",
      "2   1 -1.512360  1.524637   1.779084\n",
      "3   1  0.051919  1.214806   1.283185\n",
      "4   1  0.393196 -0.839507   1.278593\n",
      "5   1 -1.611365  1.726701   2.040809\n",
      "6   1 -1.042960  0.642293  -0.323896\n",
      "7   1 -0.312652 -0.246787  -0.870303\n",
      "8   1 -1.612530 -1.425491  -1.357019\n",
      "9   1  0.614501 -1.391814  -0.429504 [ 1.54816813 -0.69430382 -0.90513451  0.85817677 -0.21514314 -1.30762948\n",
      " -0.42597384 -0.15764386 -1.76762372 -0.65597096]\n"
     ]
    }
   ],
   "source": [
    "import pandas as pd\n",
    "import numpy as np\n",
    "import matplotlib.pyplot as plt\n",
    "import seaborn as sn\n",
    "df=pd.read_csv('/home/hungcucu/Documents/usth/machine learning/Practice_1/Advertising.csv')\n",
    "df['x0']=1\n",
    "print(df.head())\n",
    "X=df[['x0','TV','radio','newspaper']]\n",
    "Y=df['sales']\n",
    "Y=np.array((Y-Y.mean())/Y.std())\n",
    "X=X.apply(lambda rec:(rec-rec.mean())/rec.std(),axis=0)\n",
    "X['x0']=1\n",
    "print(X[0:10],Y[0:10])\n",
    "import random\n",
    "def initialize(dim):\n",
    "    theta=np.random.rand(dim)\n",
    "    return theta\n",
    "theta=initialize(4)\n",
    "\n",
    "\n",
    "def predict_Y(theta,X):\n",
    "    return  np.dot(X,theta)\n",
    "\n",
    "import math\n",
    "def get_cost(Y,Y_hat,theta,lambda_):\n",
    "    Y_resd=Y-Y_hat\n",
    "    reg_term = lambda_*np.sum(np.square(theta))\n",
    "    return (np.sum(np.dot(Y_resd.T,Y_resd))+reg_term)/len(Y-Y_resd)\n",
    "\n",
    "\n",
    "def update_theta(x,y,y_hat,theta_o,learning_rate,lambda_):\n",
    "    dw=(np.dot((y_hat-y),x)*2)/len(y)\n",
    "    reg_term = lambda_*learning_rate*theta_o/len(y)\n",
    "    theta_1=theta_o - learning_rate*dw - reg_term\n",
    "    return theta_1\n",
    "\n",
    "\n",
    "def run_gradient_descent(X,Y,alpha,num_iterations,lambda_):\n",
    "    theta=initialize(X.shape[1])\n",
    "    iter_num=0\n",
    "    gd_iterations_df=pd.DataFrame(columns=['iteration','cost'])\n",
    "    result_idx=0\n",
    "    for each_iter in range(num_iterations):\n",
    "        Y_hat=predict_Y(theta,X)\n",
    "        this_cost=get_cost(Y,Y_hat,theta,lambda_)\n",
    "        prev_theta=theta\n",
    "        theta=update_theta(X,Y,Y_hat,prev_theta,alpha,lambda_)\n",
    "        if(iter_num%10==0):\n",
    "            gd_iterations_df.loc[result_idx]=[iter_num,this_cost]\n",
    "            result_idx=result_idx+1\n",
    "        iter_num +=1\n",
    "    print(\"Final Estimate of theta : \",theta)\n",
    "    return gd_iterations_df,theta\n"
   ]
  },
  {
   "cell_type": "code",
   "execution_count": 21,
   "metadata": {},
   "outputs": [
    {
     "name": "stdout",
     "output_type": "stream",
     "text": [
      "Final Estimate of theta :  [0.005121   0.74750283 0.52147271 0.01457433]\n"
     ]
    }
   ],
   "source": [
    "gd_iterations_df,theta = run_gradient_descent(X,Y,0.01,200,0.01)\n"
   ]
  },
  {
   "cell_type": "code",
   "execution_count": 22,
   "metadata": {},
   "outputs": [
    {
     "data": {
      "image/png": "[encoded data removed]",
      "text/plain": [
       "<Figure size 640x480 with 1 Axes>"
      ]
     },
     "metadata": {},
     "output_type": "display_data"
    },
    {
     "name": "stdout",
     "output_type": "stream",
     "text": [
      "    iteration      cost\n",
      "15      150.0  0.104162\n",
      "16      160.0  0.103686\n",
      "17      170.0  0.103338\n",
      "18      180.0  0.103082\n",
      "19      190.0  0.102892\n"
     ]
    }
   ],
   "source": [
    "plt.plot(gd_iterations_df['iteration'],gd_iterations_df['cost'])\n",
    "plt.xlabel(\"Number of iterations\")\n",
    "plt.ylabel(\"Cost or MSE\")\n",
    "plt.show()\n",
    "print(gd_iterations_df.tail())"
   ]
  },
  {
   "cell_type": "code",
   "execution_count": null,
   "metadata": {},
   "outputs": [],
   "source": []
  }
 ],
 "metadata": {
  "kernelspec": {
   "display_name": "Python 3 (ipykernel)",
   "language": "python",
   "name": "python3"
  },
  "language_info": {
   "codemirror_mode": {
    "name": "ipython",
    "version": 3
   },
   "file_extension": ".py",
   "mimetype": "text/x-python",
   "name": "python",
   "nbconvert_exporter": "python",
   "pygments_lexer": "ipython3",
   "version": "3.12.7"
  }
 },
 "nbformat": 4,
 "nbformat_minor": 2
}
